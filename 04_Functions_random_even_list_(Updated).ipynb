{
  "nbformat": 4,
  "nbformat_minor": 0,
  "metadata": {
    "colab": {
      "provenance": [],
      "collapsed_sections": [],
      "include_colab_link": true
    },
    "kernelspec": {
      "name": "python3",
      "display_name": "Python 3"
    },
    "language_info": {
      "name": "python"
    }
  },
  "cells": [
    {
      "cell_type": "markdown",
      "metadata": {
        "id": "view-in-github",
        "colab_type": "text"
      },
      "source": [
        "<a href=\"https://colab.research.google.com/github/xavierwong0816/Calculator/blob/main/04_Functions_random_even_list_(Updated).ipynb\" target=\"_parent\"><img src=\"https://colab.research.google.com/assets/colab-badge.svg\" alt=\"Open In Colab\"/></a>"
      ]
    },
    {
      "cell_type": "markdown",
      "source": [
        "# Task 1: Generate a list of *ten (10)* random *even* numbers using `while` loop"
      ],
      "metadata": {
        "id": "yoglYJWb3G5p"
      }
    },
    {
      "cell_type": "code",
      "source": [
        "\"\"\"\n",
        "This is a multi-line comments\n",
        "Generates a list of even numbers\n",
        "num -- the number of elements to be generated\n",
        "begin, end -- even numbers generated between specified begin and end range\n",
        "\"\"\"\n",
        "\n",
        "# import random module\n",
        "import random\n",
        "\n",
        "evenlist = []\n",
        "num = 11\n",
        "begin = 10\n",
        "end = 20\n",
        "\n",
        "# generate random number \n",
        "randNum = random.randrange(begin, end) \n",
        "print(randNum, \" is random number\")\n",
        "\n",
        "# check if it it even number, if yes, add to list\n",
        "if randNum % 2 == 0:  \n",
        "  evenlist.append(randNum)\n",
        "  print(randNum, \"is a random even number\")\n"
      ],
      "metadata": {
        "id": "XzaS3MJ2AG6U",
        "colab": {
          "base_uri": "https://localhost:8080/"
        },
        "outputId": "f3faee6e-1aeb-4773-fdd4-f10f0eb39b8e"
      },
      "execution_count": null,
      "outputs": [
        {
          "output_type": "stream",
          "name": "stdout",
          "text": [
            "10  is random number\n",
            "10 is a random even number\n"
          ]
        }
      ]
    },
    {
      "cell_type": "markdown",
      "source": [
        "### Try with different values"
      ],
      "metadata": {
        "id": "6xYzRb3CClsX"
      }
    },
    {
      "cell_type": "code",
      "source": [
        "#import random module\n",
        "\n",
        "import random\n",
        "\n",
        "randlist = []\n",
        "even_list = []\n",
        "odd_list = []\n",
        "begin = 1\n",
        "end = 50\n",
        "\n",
        "counter = 1\n",
        "while (counter <= 10): #define how many even numbers will be displayed\n",
        "\n",
        "  #generate a random number\n",
        "  randNum = random.randint(begin, end)\n",
        "  randlist.append(randNum)\n",
        "\n",
        "  #check even number\n",
        "  if randNum %2 == 0:\n",
        "    even_list.append(randNum)\n",
        "    counter = counter + 1\n",
        "  else:\n",
        "      odd_list.append(randNum)\n",
        "  \n",
        "print (\"\")\n",
        "\n",
        "#print(\"The random numbers are: \",randlist)\n",
        "print(\"The random even numbers are: \",even_list)\n",
        "print(\"\")"
      ],
      "metadata": {
        "id": "8l_PM0vvC3CW",
        "colab": {
          "base_uri": "https://localhost:8080/"
        },
        "outputId": "c3fbef2a-99a4-4395-8258-ed8b018d7b2e"
      },
      "execution_count": null,
      "outputs": [
        {
          "output_type": "stream",
          "name": "stdout",
          "text": [
            "\n",
            "The random even numbers are:  [34, 22, 28, 12, 2, 22, 18, 6, 38, 34]\n",
            "\n"
          ]
        }
      ]
    },
    {
      "cell_type": "markdown",
      "source": [
        "# Task 2: Generalise\n",
        "\n",
        "### Make what we changed as inputs (parameters) to a function"
      ],
      "metadata": {
        "id": "mqAewt8WC3cX"
      }
    },
    {
      "cell_type": "code",
      "source": [
        "def generate_even_list():\n",
        "  \"\"\"\n",
        "  This is a multi-line comments\n",
        "  Generates a list of even numbers\n",
        "  num -- the number of elements to be generated\n",
        "  begin, end -- even numbers generated between specified begin and end range\n",
        "  \"\"\"\n",
        "  \n",
        "  #import random module\n",
        "\n",
        "  import random\n",
        "\n",
        "  even_list = []\n",
        "  begin = 1\n",
        "  end = 50\n",
        "\n",
        "  counter = 1\n",
        "  while (counter <= 5): #define how many even numbers will be displayed\n",
        "\n",
        "    #generate a random number\n",
        "    randNum = random.randrange(begin, end)\n",
        "\n",
        "    #check even number\n",
        "    if randNum %2 == 0:\n",
        "      even_list.append(randNum)\n",
        "      counter = counter + 1\n",
        "    \n",
        "  print(even_list)\n"
      ],
      "metadata": {
        "id": "f3gFrgLoBfgF"
      },
      "execution_count": null,
      "outputs": []
    },
    {
      "cell_type": "code",
      "source": [
        "generate_even_list() #function call"
      ],
      "metadata": {
        "colab": {
          "base_uri": "https://localhost:8080/"
        },
        "id": "46nBzjC1rjG4",
        "outputId": "df97258e-3fc2-4961-f8f3-b4d5bb696706"
      },
      "execution_count": null,
      "outputs": [
        {
          "output_type": "stream",
          "name": "stdout",
          "text": [
            "[10, 40, 12, 36, 38]\n"
          ]
        }
      ]
    },
    {
      "cell_type": "markdown",
      "source": [
        "# Docstrings\n",
        "\n",
        "A docstring is a string literal that occurs as the first statement in a function, module, class, or method definition. \n",
        "\n",
        "Docstring encased in triple `\"\"\"` quotes.\n",
        "\n",
        "Docstrings are used to describe a function. \n",
        " - what a function does, \n",
        " - the number of arguments it takes\n",
        " - the type of object it returns, etc\n",
        "\n",
        "https://peps.python.org/pep-0257/#what-is-a-docstring"
      ],
      "metadata": {
        "id": "-vluWzf0aJDF"
      }
    },
    {
      "cell_type": "code",
      "source": [
        "def generate_even_list(num, begin, end):\n",
        "  \"\"\"\n",
        "  This is a docstring\n",
        "  Generates a list of even numbers\n",
        "  num -- the number of elements to be generated\n",
        "  begin, end -- even numbers generated between specified begin and end range\n",
        "  \"\"\"\n",
        "  \n",
        "  #import random module\n",
        "  import random\n",
        "\n",
        "  even_list = []\n",
        "  #begin = 1\n",
        "  #end = 50\n",
        "\n",
        "  counter = 1\n",
        "  while (counter <= num): #define how many even numbers will be displayed\n",
        "\n",
        "    #generate a random number\n",
        "    randNum = random.randrange(begin, end)\n",
        "\n",
        "    #check even number\n",
        "    if randNum %2 == 0:\n",
        "      even_list.append(randNum)\n",
        "      counter = counter + 1\n",
        "\n",
        "  print(even_list)\n"
      ],
      "metadata": {
        "id": "oCq3n9_5Cawu"
      },
      "execution_count": null,
      "outputs": []
    },
    {
      "cell_type": "code",
      "source": [
        "generate_even_list(5, 1, 30)"
      ],
      "metadata": {
        "colab": {
          "base_uri": "https://localhost:8080/"
        },
        "id": "eOnc6jwYw1Gd",
        "outputId": "61672f5e-67a3-46b7-e92d-e7427a3d25ab"
      },
      "execution_count": null,
      "outputs": [
        {
          "output_type": "stream",
          "name": "stdout",
          "text": [
            "[4, 2, 14, 24, 18]\n"
          ]
        }
      ]
    },
    {
      "cell_type": "markdown",
      "source": [
        "# Task 3 (Optional): Write a function that takes a list as an argument and generate two lists, even list and odd list.\n",
        "\n",
        "### *Try with `for` loop*"
      ],
      "metadata": {
        "id": "8Tx-b-9EHOpH"
      }
    },
    {
      "cell_type": "code",
      "source": [
        "def generate_list(num, begin, end):\n",
        "  \"\"\"\n",
        "  This is a docstring\n",
        "  Generates a list of even numbers\n",
        "  num -- the number of elements to be generated\n",
        "  begin, end -- even numbers generated between specified begin and end range\n",
        "  \"\"\"\n",
        "  \n",
        "  #import random module\n",
        "  import random\n",
        "\n",
        "  even_list = []\n",
        "  odd_list = []\n",
        "\n",
        "  for i in range (begin, end):\n",
        "\n",
        "    #generate a random number\n",
        "    randNum = random.randrange(begin, end)\n",
        "\n",
        "    #check even number\n",
        "    if randNum %2 == 0:\n",
        "      even_list.append(randNum)\n",
        "    else:\n",
        "      odd_list.append(randNum)\n",
        "  \n",
        "  print(\"The odd random numbers are: \", odd_list)\n",
        "  print(\"The even random numbers are: \", even_list)\n",
        "  "
      ],
      "metadata": {
        "id": "lvQDKMHNHPxe"
      },
      "execution_count": null,
      "outputs": []
    },
    {
      "cell_type": "code",
      "source": [
        "generate_list(3,1,30)\n"
      ],
      "metadata": {
        "colab": {
          "base_uri": "https://localhost:8080/"
        },
        "id": "Su9rgvnufkjA",
        "outputId": "779f2c3c-002b-4aae-d8c6-02f76a571960"
      },
      "execution_count": null,
      "outputs": [
        {
          "output_type": "stream",
          "name": "stdout",
          "text": [
            "The odd random numbers are:  [29, 1, 23, 11, 3, 11, 9, 25, 19, 27, 29, 13, 13, 21, 17, 11]\n",
            "The even random numbers are:  [22, 28, 12, 2, 16, 26, 10, 8, 14, 28, 6, 22, 4]\n"
          ]
        }
      ]
    }
  ]
}